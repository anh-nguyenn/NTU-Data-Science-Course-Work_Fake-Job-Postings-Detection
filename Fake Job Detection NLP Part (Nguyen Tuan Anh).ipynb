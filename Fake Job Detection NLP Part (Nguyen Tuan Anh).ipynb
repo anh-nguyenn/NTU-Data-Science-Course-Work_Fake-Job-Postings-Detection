{
  "nbformat": 4,
  "nbformat_minor": 0,
  "metadata": {
    "colab": {
      "provenance": []
    },
    "kernelspec": {
      "name": "python3",
      "display_name": "Python 3"
    },
    "language_info": {
      "name": "python"
    }
  },
  "cells": [
    {
      "cell_type": "markdown",
      "source": [
        "**IE0005 Mini-Project: Online Fake Job Detection with NLP Approach**\n",
        "\n",
        "**Team Koviema:**\n",
        "\n",
        "1. SEO JUNEYOUNG\n",
        "2. YOO JAE WON\n",
        "3. NGUYEN TUAN ANH\n",
        "\n",
        "***This project's objective*** is to anticipate job advertisements that are fake by doing a comparative examination of four distinct classification models. In this research, an automated solution using machine learning-based classification approaches is presented to prevent fraudulent job postings on the internet. A variety of supervised learning techniques are utilized, including XGBoost, Support Vector Machine, Logistic Regression, and Random Forest. And the best algorithm is chosen by taking into account the various factors. To forecast the effective algorithm, accuracy score, confusion matrix, and classification report are evaluted\n",
        "\n",
        "Our dataset is available on Kaggle: https://www.kaggle.com/datasets/shivamb/real-or-fake-fake-jobposting-prediction"
      ],
      "metadata": {
        "id": "jzHxiC7CXeLX"
      }
    },
    {
      "cell_type": "code",
      "source": [
        "from google.colab import drive\n",
        "drive.mount('/content/drive')"
      ],
      "metadata": {
        "colab": {
          "base_uri": "https://localhost:8080/"
        },
        "id": "cmlWP35OW4AI",
        "outputId": "8572c544-7c3c-47bc-8a10-356d7b38f6ca"
      },
      "execution_count": null,
      "outputs": [
        {
          "output_type": "stream",
          "name": "stdout",
          "text": [
            "Drive already mounted at /content/drive; to attempt to forcibly remount, call drive.mount(\"/content/drive\", force_remount=True).\n"
          ]
        }
      ]
    },
    {
      "cell_type": "markdown",
      "source": [
        "# **Import important libraries and modules**"
      ],
      "metadata": {
        "id": "JnuUfuc7cIX0"
      }
    },
    {
      "cell_type": "code",
      "source": [
        "# Importing all required libraries\n",
        "import numpy as np\n",
        "import pandas as pd\n",
        "import re\n",
        "import string\n",
        "import numpy as np\n",
        "import pandas as pd\n",
        "import random\n",
        "import missingno\n",
        "import plotly.express as px\n",
        "import seaborn as sns\n",
        "import matplotlib.pyplot as plt"
      ],
      "metadata": {
        "id": "9R0qfXo_cXh4"
      },
      "execution_count": null,
      "outputs": []
    },
    {
      "cell_type": "code",
      "source": [
        "# Import libraries related to models and vectorizers\n",
        "from sklearn.feature_extraction.text import TfidfVectorizer, CountVectorizer\n",
        "from sklearn.preprocessing import LabelBinarizer\n",
        "from sklearn.linear_model import LogisticRegression\n",
        "from sklearn.naive_bayes import MultinomialNB\n",
        "from sklearn.svm import SVC\n",
        "from sklearn.metrics import classification_report,confusion_matrix,accuracy_score,recall_score,roc_auc_score\n",
        "from sklearn.model_selection import train_test_split\n",
        "from string import punctuation\n",
        "from sklearn.ensemble import RandomForestClassifier\n",
        "from sklearn.pipeline import Pipeline\n",
        "from sklearn.base import TransformerMixin\n",
        "from xgboost import XGBClassifier\n",
        "from sklearn.naive_bayes import MultinomialNB\n",
        "import warnings\n",
        "warnings.filterwarnings(\"ignore\")"
      ],
      "metadata": {
        "id": "pXClNqiocxZY"
      },
      "execution_count": null,
      "outputs": []
    },
    {
      "cell_type": "code",
      "source": [
        "# Importing natural languge processing libraries\n",
        "import spacy\n",
        "from spacy.lang.en.stop_words import STOP_WORDS\n",
        "from spacy.lang.en import English\n",
        "import en_core_web_sm"
      ],
      "metadata": {
        "id": "zwQ271OHdA8I"
      },
      "execution_count": null,
      "outputs": []
    },
    {
      "cell_type": "markdown",
      "source": [
        "# **Initial overview of the data**"
      ],
      "metadata": {
        "id": "0hfWJaBIdXhb"
      }
    },
    {
      "cell_type": "code",
      "source": [
        "# Specify the File Path\n",
        "file_path = 'fake_job_postings.csv'\n",
        "\n",
        "# Load File \n",
        "data = pd.read_csv(file_path) \n",
        "\n",
        "# A quick view\n",
        "data.head()"
      ],
      "metadata": {
        "colab": {
          "base_uri": "https://localhost:8080/",
          "height": 600
        },
        "id": "3ODVoYjrdr1Y",
        "outputId": "632606e8-926f-48c4-bfa7-b004322cb659"
      },
      "execution_count": null,
      "outputs": [
        {
          "output_type": "execute_result",
          "data": {
            "text/plain": [
              "   job_id                                      title            location  \\\n",
              "0       1                           Marketing Intern    US, NY, New York   \n",
              "1       2  Customer Service - Cloud Video Production      NZ, , Auckland   \n",
              "2       3    Commissioning Machinery Assistant (CMA)       US, IA, Wever   \n",
              "3       4          Account Executive - Washington DC  US, DC, Washington   \n",
              "4       5                        Bill Review Manager  US, FL, Fort Worth   \n",
              "\n",
              "  department salary_range                                    company_profile  \\\n",
              "0  Marketing          NaN  We're Food52, and we've created a groundbreaki...   \n",
              "1    Success          NaN  90 Seconds, the worlds Cloud Video Production ...   \n",
              "2        NaN          NaN  Valor Services provides Workforce Solutions th...   \n",
              "3      Sales          NaN  Our passion for improving quality of life thro...   \n",
              "4        NaN          NaN  SpotSource Solutions LLC is a Global Human Cap...   \n",
              "\n",
              "                                         description  \\\n",
              "0  Food52, a fast-growing, James Beard Award-winn...   \n",
              "1  Organised - Focused - Vibrant - Awesome!Do you...   \n",
              "2  Our client, located in Houston, is actively se...   \n",
              "3  THE COMPANY: ESRI – Environmental Systems Rese...   \n",
              "4  JOB TITLE: Itemization Review ManagerLOCATION:...   \n",
              "\n",
              "                                        requirements  \\\n",
              "0  Experience with content management systems a m...   \n",
              "1  What we expect from you:Your key responsibilit...   \n",
              "2  Implement pre-commissioning and commissioning ...   \n",
              "3  EDUCATION: Bachelor’s or Master’s in GIS, busi...   \n",
              "4  QUALIFICATIONS:RN license in the State of Texa...   \n",
              "\n",
              "                                            benefits  telecommuting  \\\n",
              "0                                                NaN              0   \n",
              "1  What you will get from usThrough being part of...              0   \n",
              "2                                                NaN              0   \n",
              "3  Our culture is anything but corporate—we have ...              0   \n",
              "4                              Full Benefits Offered              0   \n",
              "\n",
              "   has_company_logo  has_questions employment_type required_experience  \\\n",
              "0                 1              0           Other          Internship   \n",
              "1                 1              0       Full-time      Not Applicable   \n",
              "2                 1              0             NaN                 NaN   \n",
              "3                 1              0       Full-time    Mid-Senior level   \n",
              "4                 1              1       Full-time    Mid-Senior level   \n",
              "\n",
              "  required_education                   industry              function  \\\n",
              "0                NaN                        NaN             Marketing   \n",
              "1                NaN  Marketing and Advertising      Customer Service   \n",
              "2                NaN                        NaN                   NaN   \n",
              "3  Bachelor's Degree          Computer Software                 Sales   \n",
              "4  Bachelor's Degree     Hospital & Health Care  Health Care Provider   \n",
              "\n",
              "   fraudulent  \n",
              "0           0  \n",
              "1           0  \n",
              "2           0  \n",
              "3           0  \n",
              "4           0  "
            ],
            "text/html": [
              "\n",
              "  <div id=\"df-d58102c5-4948-431a-a502-959fc56e4286\">\n",
              "    <div class=\"colab-df-container\">\n",
              "      <div>\n",
              "<style scoped>\n",
              "    .dataframe tbody tr th:only-of-type {\n",
              "        vertical-align: middle;\n",
              "    }\n",
              "\n",
              "    .dataframe tbody tr th {\n",
              "        vertical-align: top;\n",
              "    }\n",
              "\n",
              "    .dataframe thead th {\n",
              "        text-align: right;\n",
              "    }\n",
              "</style>\n",
              "<table border=\"1\" class=\"dataframe\">\n",
              "  <thead>\n",
              "    <tr style=\"text-align: right;\">\n",
              "      <th></th>\n",
              "      <th>job_id</th>\n",
              "      <th>title</th>\n",
              "      <th>location</th>\n",
              "      <th>department</th>\n",
              "      <th>salary_range</th>\n",
              "      <th>company_profile</th>\n",
              "      <th>description</th>\n",
              "      <th>requirements</th>\n",
              "      <th>benefits</th>\n",
              "      <th>telecommuting</th>\n",
              "      <th>has_company_logo</th>\n",
              "      <th>has_questions</th>\n",
              "      <th>employment_type</th>\n",
              "      <th>required_experience</th>\n",
              "      <th>required_education</th>\n",
              "      <th>industry</th>\n",
              "      <th>function</th>\n",
              "      <th>fraudulent</th>\n",
              "    </tr>\n",
              "  </thead>\n",
              "  <tbody>\n",
              "    <tr>\n",
              "      <th>0</th>\n",
              "      <td>1</td>\n",
              "      <td>Marketing Intern</td>\n",
              "      <td>US, NY, New York</td>\n",
              "      <td>Marketing</td>\n",
              "      <td>NaN</td>\n",
              "      <td>We're Food52, and we've created a groundbreaki...</td>\n",
              "      <td>Food52, a fast-growing, James Beard Award-winn...</td>\n",
              "      <td>Experience with content management systems a m...</td>\n",
              "      <td>NaN</td>\n",
              "      <td>0</td>\n",
              "      <td>1</td>\n",
              "      <td>0</td>\n",
              "      <td>Other</td>\n",
              "      <td>Internship</td>\n",
              "      <td>NaN</td>\n",
              "      <td>NaN</td>\n",
              "      <td>Marketing</td>\n",
              "      <td>0</td>\n",
              "    </tr>\n",
              "    <tr>\n",
              "      <th>1</th>\n",
              "      <td>2</td>\n",
              "      <td>Customer Service - Cloud Video Production</td>\n",
              "      <td>NZ, , Auckland</td>\n",
              "      <td>Success</td>\n",
              "      <td>NaN</td>\n",
              "      <td>90 Seconds, the worlds Cloud Video Production ...</td>\n",
              "      <td>Organised - Focused - Vibrant - Awesome!Do you...</td>\n",
              "      <td>What we expect from you:Your key responsibilit...</td>\n",
              "      <td>What you will get from usThrough being part of...</td>\n",
              "      <td>0</td>\n",
              "      <td>1</td>\n",
              "      <td>0</td>\n",
              "      <td>Full-time</td>\n",
              "      <td>Not Applicable</td>\n",
              "      <td>NaN</td>\n",
              "      <td>Marketing and Advertising</td>\n",
              "      <td>Customer Service</td>\n",
              "      <td>0</td>\n",
              "    </tr>\n",
              "    <tr>\n",
              "      <th>2</th>\n",
              "      <td>3</td>\n",
              "      <td>Commissioning Machinery Assistant (CMA)</td>\n",
              "      <td>US, IA, Wever</td>\n",
              "      <td>NaN</td>\n",
              "      <td>NaN</td>\n",
              "      <td>Valor Services provides Workforce Solutions th...</td>\n",
              "      <td>Our client, located in Houston, is actively se...</td>\n",
              "      <td>Implement pre-commissioning and commissioning ...</td>\n",
              "      <td>NaN</td>\n",
              "      <td>0</td>\n",
              "      <td>1</td>\n",
              "      <td>0</td>\n",
              "      <td>NaN</td>\n",
              "      <td>NaN</td>\n",
              "      <td>NaN</td>\n",
              "      <td>NaN</td>\n",
              "      <td>NaN</td>\n",
              "      <td>0</td>\n",
              "    </tr>\n",
              "    <tr>\n",
              "      <th>3</th>\n",
              "      <td>4</td>\n",
              "      <td>Account Executive - Washington DC</td>\n",
              "      <td>US, DC, Washington</td>\n",
              "      <td>Sales</td>\n",
              "      <td>NaN</td>\n",
              "      <td>Our passion for improving quality of life thro...</td>\n",
              "      <td>THE COMPANY: ESRI – Environmental Systems Rese...</td>\n",
              "      <td>EDUCATION: Bachelor’s or Master’s in GIS, busi...</td>\n",
              "      <td>Our culture is anything but corporate—we have ...</td>\n",
              "      <td>0</td>\n",
              "      <td>1</td>\n",
              "      <td>0</td>\n",
              "      <td>Full-time</td>\n",
              "      <td>Mid-Senior level</td>\n",
              "      <td>Bachelor's Degree</td>\n",
              "      <td>Computer Software</td>\n",
              "      <td>Sales</td>\n",
              "      <td>0</td>\n",
              "    </tr>\n",
              "    <tr>\n",
              "      <th>4</th>\n",
              "      <td>5</td>\n",
              "      <td>Bill Review Manager</td>\n",
              "      <td>US, FL, Fort Worth</td>\n",
              "      <td>NaN</td>\n",
              "      <td>NaN</td>\n",
              "      <td>SpotSource Solutions LLC is a Global Human Cap...</td>\n",
              "      <td>JOB TITLE: Itemization Review ManagerLOCATION:...</td>\n",
              "      <td>QUALIFICATIONS:RN license in the State of Texa...</td>\n",
              "      <td>Full Benefits Offered</td>\n",
              "      <td>0</td>\n",
              "      <td>1</td>\n",
              "      <td>1</td>\n",
              "      <td>Full-time</td>\n",
              "      <td>Mid-Senior level</td>\n",
              "      <td>Bachelor's Degree</td>\n",
              "      <td>Hospital &amp; Health Care</td>\n",
              "      <td>Health Care Provider</td>\n",
              "      <td>0</td>\n",
              "    </tr>\n",
              "  </tbody>\n",
              "</table>\n",
              "</div>\n",
              "      <button class=\"colab-df-convert\" onclick=\"convertToInteractive('df-d58102c5-4948-431a-a502-959fc56e4286')\"\n",
              "              title=\"Convert this dataframe to an interactive table.\"\n",
              "              style=\"display:none;\">\n",
              "        \n",
              "  <svg xmlns=\"http://www.w3.org/2000/svg\" height=\"24px\"viewBox=\"0 0 24 24\"\n",
              "       width=\"24px\">\n",
              "    <path d=\"M0 0h24v24H0V0z\" fill=\"none\"/>\n",
              "    <path d=\"M18.56 5.44l.94 2.06.94-2.06 2.06-.94-2.06-.94-.94-2.06-.94 2.06-2.06.94zm-11 1L8.5 8.5l.94-2.06 2.06-.94-2.06-.94L8.5 2.5l-.94 2.06-2.06.94zm10 10l.94 2.06.94-2.06 2.06-.94-2.06-.94-.94-2.06-.94 2.06-2.06.94z\"/><path d=\"M17.41 7.96l-1.37-1.37c-.4-.4-.92-.59-1.43-.59-.52 0-1.04.2-1.43.59L10.3 9.45l-7.72 7.72c-.78.78-.78 2.05 0 2.83L4 21.41c.39.39.9.59 1.41.59.51 0 1.02-.2 1.41-.59l7.78-7.78 2.81-2.81c.8-.78.8-2.07 0-2.86zM5.41 20L4 18.59l7.72-7.72 1.47 1.35L5.41 20z\"/>\n",
              "  </svg>\n",
              "      </button>\n",
              "      \n",
              "  <style>\n",
              "    .colab-df-container {\n",
              "      display:flex;\n",
              "      flex-wrap:wrap;\n",
              "      gap: 12px;\n",
              "    }\n",
              "\n",
              "    .colab-df-convert {\n",
              "      background-color: #E8F0FE;\n",
              "      border: none;\n",
              "      border-radius: 50%;\n",
              "      cursor: pointer;\n",
              "      display: none;\n",
              "      fill: #1967D2;\n",
              "      height: 32px;\n",
              "      padding: 0 0 0 0;\n",
              "      width: 32px;\n",
              "    }\n",
              "\n",
              "    .colab-df-convert:hover {\n",
              "      background-color: #E2EBFA;\n",
              "      box-shadow: 0px 1px 2px rgba(60, 64, 67, 0.3), 0px 1px 3px 1px rgba(60, 64, 67, 0.15);\n",
              "      fill: #174EA6;\n",
              "    }\n",
              "\n",
              "    [theme=dark] .colab-df-convert {\n",
              "      background-color: #3B4455;\n",
              "      fill: #D2E3FC;\n",
              "    }\n",
              "\n",
              "    [theme=dark] .colab-df-convert:hover {\n",
              "      background-color: #434B5C;\n",
              "      box-shadow: 0px 1px 3px 1px rgba(0, 0, 0, 0.15);\n",
              "      filter: drop-shadow(0px 1px 2px rgba(0, 0, 0, 0.3));\n",
              "      fill: #FFFFFF;\n",
              "    }\n",
              "  </style>\n",
              "\n",
              "      <script>\n",
              "        const buttonEl =\n",
              "          document.querySelector('#df-d58102c5-4948-431a-a502-959fc56e4286 button.colab-df-convert');\n",
              "        buttonEl.style.display =\n",
              "          google.colab.kernel.accessAllowed ? 'block' : 'none';\n",
              "\n",
              "        async function convertToInteractive(key) {\n",
              "          const element = document.querySelector('#df-d58102c5-4948-431a-a502-959fc56e4286');\n",
              "          const dataTable =\n",
              "            await google.colab.kernel.invokeFunction('convertToInteractive',\n",
              "                                                     [key], {});\n",
              "          if (!dataTable) return;\n",
              "\n",
              "          const docLinkHtml = 'Like what you see? Visit the ' +\n",
              "            '<a target=\"_blank\" href=https://colab.research.google.com/notebooks/data_table.ipynb>data table notebook</a>'\n",
              "            + ' to learn more about interactive tables.';\n",
              "          element.innerHTML = '';\n",
              "          dataTable['output_type'] = 'display_data';\n",
              "          await google.colab.output.renderOutput(dataTable, element);\n",
              "          const docLink = document.createElement('div');\n",
              "          docLink.innerHTML = docLinkHtml;\n",
              "          element.appendChild(docLink);\n",
              "        }\n",
              "      </script>\n",
              "    </div>\n",
              "  </div>\n",
              "  "
            ]
          },
          "metadata": {},
          "execution_count": 97
        }
      ]
    },
    {
      "cell_type": "markdown",
      "source": [
        "This plot shows the rate of fake and real job postings in the dataset. The data is highly imbalaced"
      ],
      "metadata": {
        "id": "BQQO9YuGhe-t"
      }
    },
    {
      "cell_type": "markdown",
      "source": [
        "# **EDA (Exploratory Data Analysis)**"
      ],
      "metadata": {
        "id": "B9jAA9Vahjsj"
      }
    },
    {
      "cell_type": "markdown",
      "source": [
        "Visualizing the completeness of the data help us determine which data will not be very useful to be a variable to classify fradulent data. We can fliter it out.\n",
        "\n",
        "We can conclude that the data in the 'department' , 'salary_range' and 'required_education' column has a lot of null datas which are not usefull in predicting fake jobs."
      ],
      "metadata": {
        "id": "B1ND5SMwj2OE"
      }
    },
    {
      "cell_type": "code",
      "source": [
        "# Fill the blank spaces in the location column\n",
        "data.location = data.location.fillna('blank')"
      ],
      "metadata": {
        "id": "-IJKWaWqkHLs"
      },
      "execution_count": null,
      "outputs": []
    },
    {
      "cell_type": "code",
      "source": [
        "# Assign data to data_US column\n",
        "data_US=data"
      ],
      "metadata": {
        "id": "EE2mLTkGkT0g"
      },
      "execution_count": null,
      "outputs": []
    },
    {
      "cell_type": "code",
      "source": [
        "# Splitting the locations in the location column into two new columns state and city\n",
        "loc_split =[]\n",
        "for loc in data_US.location:\n",
        "    loc_split.append(loc.split(','))\n",
        "\n",
        "loc_split = pd.DataFrame(loc_split)\n",
        "\n",
        "loc_split = loc_split[[1, 2]]\n",
        "\n",
        "loc_split = loc_split.rename(columns={1: \"state\", 2:'city'})"
      ],
      "metadata": {
        "id": "vYZkwhQckWig"
      },
      "execution_count": null,
      "outputs": []
    },
    {
      "cell_type": "code",
      "source": [
        "# Reseting the index of the dataframe\n",
        "data_US = data_US.reset_index()"
      ],
      "metadata": {
        "id": "vahIVQOnliyt"
      },
      "execution_count": null,
      "outputs": []
    },
    {
      "cell_type": "markdown",
      "source": [
        "Apply new column to the dataset"
      ],
      "metadata": {
        "id": "XXcVYfJ3lp-5"
      }
    },
    {
      "cell_type": "code",
      "source": [
        "\n",
        "# Joining the state and city column into the main dataframe\n",
        "data_US = data_US.join(loc_split)"
      ],
      "metadata": {
        "id": "xL6OetpHlliN"
      },
      "execution_count": null,
      "outputs": []
    },
    {
      "cell_type": "code",
      "source": [
        "# Reassuring that all columns are available and arranged accordingly\n",
        "data_US = data_US[['job_id', 'title', 'location', 'department', 'salary_range',\n",
        "       'company_profile', 'description', 'requirements', 'benefits',\n",
        "       'telecommuting', 'has_company_logo', 'has_questions', 'employment_type',\n",
        "       'required_experience', 'required_education', 'industry', 'function',\n",
        "       'fraudulent', 'state', 'city']]"
      ],
      "metadata": {
        "id": "I1GQX0TFlv4d"
      },
      "execution_count": null,
      "outputs": []
    },
    {
      "cell_type": "markdown",
      "source": [
        "Selecting only not null instances in city and state column"
      ],
      "metadata": {
        "id": "bnOc-j0Cl0ff"
      }
    },
    {
      "cell_type": "code",
      "source": [
        "# Selecting data will no missing values for the corresponding columns (state and city)\n",
        "data_US = data_US[data_US['city'].notna()]\n",
        "data_US = data_US[data_US['state'].notna()]"
      ],
      "metadata": {
        "id": "kWn_YUDBl2K0"
      },
      "execution_count": null,
      "outputs": []
    },
    {
      "cell_type": "markdown",
      "source": [
        "A new column state_city combining state and city columns"
      ],
      "metadata": {
        "id": "HAPX5zUwl7Pv"
      }
    },
    {
      "cell_type": "code",
      "source": [
        "# Grouping state and city columns to a new column state city\n",
        "data_US['state_city'] = data_US['state'] + \", \" + data_US['city']"
      ],
      "metadata": {
        "id": "r85gWtVel8H1"
      },
      "execution_count": null,
      "outputs": []
    },
    {
      "cell_type": "markdown",
      "source": [
        "Checking for null values"
      ],
      "metadata": {
        "id": "dd_hzldWl-Ro"
      }
    },
    {
      "cell_type": "code",
      "source": [
        "# Check for null values\n",
        "data_US.isna().sum()"
      ],
      "metadata": {
        "colab": {
          "base_uri": "https://localhost:8080/"
        },
        "id": "vBON4vvml_nV",
        "outputId": "86140a14-3625-4fa8-87a0-9a7b64331ea5"
      },
      "execution_count": null,
      "outputs": [
        {
          "output_type": "execute_result",
          "data": {
            "text/plain": [
              "job_id                     0\n",
              "title                      0\n",
              "location                   0\n",
              "department             11183\n",
              "salary_range           14631\n",
              "company_profile         3189\n",
              "description                1\n",
              "requirements            2487\n",
              "benefits                6903\n",
              "telecommuting              0\n",
              "has_company_logo           0\n",
              "has_questions              0\n",
              "employment_type         3240\n",
              "required_experience     6768\n",
              "required_education      7790\n",
              "industry                4635\n",
              "function                6167\n",
              "fraudulent                 0\n",
              "state                      0\n",
              "city                       0\n",
              "state_city                 0\n",
              "dtype: int64"
            ]
          },
          "metadata": {},
          "execution_count": 107
        }
      ]
    },
    {
      "cell_type": "markdown",
      "source": [
        "# **Data Pre-pocessing**"
      ],
      "metadata": {
        "id": "XGKOVA_Bo4h1"
      }
    },
    {
      "cell_type": "markdown",
      "source": [
        "All text related columns are stored in one variable text while the individual columns are deleted since they have no more use. These features are selected as they have shown contribution and significance corresponding to target variable. Hence they will be used for prediction"
      ],
      "metadata": {
        "id": "z_DEKNKEo_GG"
      }
    },
    {
      "cell_type": "code",
      "source": [
        "# combine all columns with text in a new column called \"text\" and dropping individual columns\n",
        "data_US['text'] =  data_US['title'] + ' ' + data_US['location'] + ' ' + data_US['company_profile'] + ' ' + \\\n",
        "        data_US['description'] + ' ' + data_US['requirements'] + ' ' + data_US['benefits'] + ' ' + \\\n",
        "        data_US['required_experience'] + ' ' + data_US['required_education'] + ' ' + data_US['industry'] + ' ' + data_US['function']\n",
        "\n",
        "\n",
        "data_US.drop(['job_id', 'department', 'salary_range', 'title','location','department','company_profile','description','requirements','benefits','employment_type','required_experience','required_education','industry','function', 'city', 'state_city', 'has_company_logo', 'has_questions', 'state'], axis = 1, inplace = True)"
      ],
      "metadata": {
        "id": "Pn6fjqn6pCLf"
      },
      "execution_count": null,
      "outputs": []
    },
    {
      "cell_type": "code",
      "source": [
        "# eliminate all null values\n",
        "data_US=data_US.dropna()"
      ],
      "metadata": {
        "id": "sj_gXzX_q3VG"
      },
      "execution_count": null,
      "outputs": []
    },
    {
      "cell_type": "code",
      "source": [
        "# check the remaining instances and attributes\n",
        "data_US.shape"
      ],
      "metadata": {
        "colab": {
          "base_uri": "https://localhost:8080/"
        },
        "id": "zIGX6Tuqq5Xz",
        "outputId": "4a3ba207-df21-4b2f-9290-eb08867d2341"
      },
      "execution_count": null,
      "outputs": [
        {
          "output_type": "execute_result",
          "data": {
            "text/plain": [
              "(4482, 3)"
            ]
          },
          "metadata": {},
          "execution_count": 114
        }
      ]
    },
    {
      "cell_type": "code",
      "source": [
        "# view the remaining data\n",
        "data_US.head()"
      ],
      "metadata": {
        "colab": {
          "base_uri": "https://localhost:8080/",
          "height": 206
        },
        "id": "DmoNEXNVrK5s",
        "outputId": "db961908-1071-4cf2-aca2-4e25b4b9875a"
      },
      "execution_count": null,
      "outputs": [
        {
          "output_type": "execute_result",
          "data": {
            "text/plain": [
              "    telecommuting  fraudulent  \\\n",
              "3               0           0   \n",
              "4               0           0   \n",
              "6               0           0   \n",
              "14              0           0   \n",
              "15              0           0   \n",
              "\n",
              "                                                 text  \n",
              "3   Account Executive - Washington DC US, DC, Wash...  \n",
              "4   Bill Review Manager US, FL, Fort Worth SpotSou...  \n",
              "6   Head of Content (m/f) DE, BE, Berlin Founded i...  \n",
              "14  Account Executive - Sydney AU, NSW, Sydney Adt...  \n",
              "15  VP of Sales - Vault Dragon SG, 01, Singapore J...  "
            ],
            "text/html": [
              "\n",
              "  <div id=\"df-6867399c-efc3-47cd-8360-8e3c7b66a7f0\">\n",
              "    <div class=\"colab-df-container\">\n",
              "      <div>\n",
              "<style scoped>\n",
              "    .dataframe tbody tr th:only-of-type {\n",
              "        vertical-align: middle;\n",
              "    }\n",
              "\n",
              "    .dataframe tbody tr th {\n",
              "        vertical-align: top;\n",
              "    }\n",
              "\n",
              "    .dataframe thead th {\n",
              "        text-align: right;\n",
              "    }\n",
              "</style>\n",
              "<table border=\"1\" class=\"dataframe\">\n",
              "  <thead>\n",
              "    <tr style=\"text-align: right;\">\n",
              "      <th></th>\n",
              "      <th>telecommuting</th>\n",
              "      <th>fraudulent</th>\n",
              "      <th>text</th>\n",
              "    </tr>\n",
              "  </thead>\n",
              "  <tbody>\n",
              "    <tr>\n",
              "      <th>3</th>\n",
              "      <td>0</td>\n",
              "      <td>0</td>\n",
              "      <td>Account Executive - Washington DC US, DC, Wash...</td>\n",
              "    </tr>\n",
              "    <tr>\n",
              "      <th>4</th>\n",
              "      <td>0</td>\n",
              "      <td>0</td>\n",
              "      <td>Bill Review Manager US, FL, Fort Worth SpotSou...</td>\n",
              "    </tr>\n",
              "    <tr>\n",
              "      <th>6</th>\n",
              "      <td>0</td>\n",
              "      <td>0</td>\n",
              "      <td>Head of Content (m/f) DE, BE, Berlin Founded i...</td>\n",
              "    </tr>\n",
              "    <tr>\n",
              "      <th>14</th>\n",
              "      <td>0</td>\n",
              "      <td>0</td>\n",
              "      <td>Account Executive - Sydney AU, NSW, Sydney Adt...</td>\n",
              "    </tr>\n",
              "    <tr>\n",
              "      <th>15</th>\n",
              "      <td>0</td>\n",
              "      <td>0</td>\n",
              "      <td>VP of Sales - Vault Dragon SG, 01, Singapore J...</td>\n",
              "    </tr>\n",
              "  </tbody>\n",
              "</table>\n",
              "</div>\n",
              "      <button class=\"colab-df-convert\" onclick=\"convertToInteractive('df-6867399c-efc3-47cd-8360-8e3c7b66a7f0')\"\n",
              "              title=\"Convert this dataframe to an interactive table.\"\n",
              "              style=\"display:none;\">\n",
              "        \n",
              "  <svg xmlns=\"http://www.w3.org/2000/svg\" height=\"24px\"viewBox=\"0 0 24 24\"\n",
              "       width=\"24px\">\n",
              "    <path d=\"M0 0h24v24H0V0z\" fill=\"none\"/>\n",
              "    <path d=\"M18.56 5.44l.94 2.06.94-2.06 2.06-.94-2.06-.94-.94-2.06-.94 2.06-2.06.94zm-11 1L8.5 8.5l.94-2.06 2.06-.94-2.06-.94L8.5 2.5l-.94 2.06-2.06.94zm10 10l.94 2.06.94-2.06 2.06-.94-2.06-.94-.94-2.06-.94 2.06-2.06.94z\"/><path d=\"M17.41 7.96l-1.37-1.37c-.4-.4-.92-.59-1.43-.59-.52 0-1.04.2-1.43.59L10.3 9.45l-7.72 7.72c-.78.78-.78 2.05 0 2.83L4 21.41c.39.39.9.59 1.41.59.51 0 1.02-.2 1.41-.59l7.78-7.78 2.81-2.81c.8-.78.8-2.07 0-2.86zM5.41 20L4 18.59l7.72-7.72 1.47 1.35L5.41 20z\"/>\n",
              "  </svg>\n",
              "      </button>\n",
              "      \n",
              "  <style>\n",
              "    .colab-df-container {\n",
              "      display:flex;\n",
              "      flex-wrap:wrap;\n",
              "      gap: 12px;\n",
              "    }\n",
              "\n",
              "    .colab-df-convert {\n",
              "      background-color: #E8F0FE;\n",
              "      border: none;\n",
              "      border-radius: 50%;\n",
              "      cursor: pointer;\n",
              "      display: none;\n",
              "      fill: #1967D2;\n",
              "      height: 32px;\n",
              "      padding: 0 0 0 0;\n",
              "      width: 32px;\n",
              "    }\n",
              "\n",
              "    .colab-df-convert:hover {\n",
              "      background-color: #E2EBFA;\n",
              "      box-shadow: 0px 1px 2px rgba(60, 64, 67, 0.3), 0px 1px 3px 1px rgba(60, 64, 67, 0.15);\n",
              "      fill: #174EA6;\n",
              "    }\n",
              "\n",
              "    [theme=dark] .colab-df-convert {\n",
              "      background-color: #3B4455;\n",
              "      fill: #D2E3FC;\n",
              "    }\n",
              "\n",
              "    [theme=dark] .colab-df-convert:hover {\n",
              "      background-color: #434B5C;\n",
              "      box-shadow: 0px 1px 3px 1px rgba(0, 0, 0, 0.15);\n",
              "      filter: drop-shadow(0px 1px 2px rgba(0, 0, 0, 0.3));\n",
              "      fill: #FFFFFF;\n",
              "    }\n",
              "  </style>\n",
              "\n",
              "      <script>\n",
              "        const buttonEl =\n",
              "          document.querySelector('#df-6867399c-efc3-47cd-8360-8e3c7b66a7f0 button.colab-df-convert');\n",
              "        buttonEl.style.display =\n",
              "          google.colab.kernel.accessAllowed ? 'block' : 'none';\n",
              "\n",
              "        async function convertToInteractive(key) {\n",
              "          const element = document.querySelector('#df-6867399c-efc3-47cd-8360-8e3c7b66a7f0');\n",
              "          const dataTable =\n",
              "            await google.colab.kernel.invokeFunction('convertToInteractive',\n",
              "                                                     [key], {});\n",
              "          if (!dataTable) return;\n",
              "\n",
              "          const docLinkHtml = 'Like what you see? Visit the ' +\n",
              "            '<a target=\"_blank\" href=https://colab.research.google.com/notebooks/data_table.ipynb>data table notebook</a>'\n",
              "            + ' to learn more about interactive tables.';\n",
              "          element.innerHTML = '';\n",
              "          dataTable['output_type'] = 'display_data';\n",
              "          await google.colab.output.renderOutput(dataTable, element);\n",
              "          const docLink = document.createElement('div');\n",
              "          docLink.innerHTML = docLinkHtml;\n",
              "          element.appendChild(docLink);\n",
              "        }\n",
              "      </script>\n",
              "    </div>\n",
              "  </div>\n",
              "  "
            ]
          },
          "metadata": {},
          "execution_count": 115
        }
      ]
    },
    {
      "cell_type": "markdown",
      "source": [
        "**Character Count Plot**\n",
        "\n",
        "Overall, the frequency of words in fake jobs are significanly lesser than real jobs."
      ],
      "metadata": {
        "id": "7rO0Ck4drS4G"
      }
    },
    {
      "cell_type": "code",
      "source": [
        "# check the total number of words for real and fake job postings\n",
        "data_US['character_count'] = data_US.text.apply(len)\n",
        "\n",
        "data_US[data_US.fraudulent==0].character_count.plot(bins=35, kind='hist', color='blue', \n",
        "                                       label='Real', alpha=0.8)\n",
        "data_US[data_US.fraudulent==1].character_count.plot(kind='hist', color='red', \n",
        "                                       label='Fake', alpha=0.8)\n",
        "plt.legend()\n",
        "plt.title('Frequency of Words')\n",
        "plt.xlabel(\"Character Count\");"
      ],
      "metadata": {
        "colab": {
          "base_uri": "https://localhost:8080/",
          "height": 295
        },
        "id": "pZuVC6kMrgtK",
        "outputId": "9501086d-8105-4bfd-a56a-272826e1cb16"
      },
      "execution_count": null,
      "outputs": [
        {
          "output_type": "display_data",
          "data": {
            "text/plain": [
              "<Figure size 432x288 with 1 Axes>"
            ],
            "image/png": "[encoded data removed]"
          },
          "metadata": {
            "needs_background": "light"
          }
        }
      ]
    },
    {
      "cell_type": "code",
      "source": [
        "# dropping the character count column\n",
        "data=data_US\n",
        "data.drop(['character_count'], axis = 1, inplace = True)\n",
        "data.drop(['telecommuting'], axis = 1, inplace = True)"
      ],
      "metadata": {
        "id": "Jz3AJIhwsjsb"
      },
      "execution_count": null,
      "outputs": []
    },
    {
      "cell_type": "code",
      "source": [
        "# confirming the remaining data\n",
        "data.head()"
      ],
      "metadata": {
        "colab": {
          "base_uri": "https://localhost:8080/",
          "height": 206
        },
        "id": "BdLhPYogune_",
        "outputId": "7a845b9c-3af1-4552-b261-9cc8af4d5c98"
      },
      "execution_count": null,
      "outputs": [
        {
          "output_type": "execute_result",
          "data": {
            "text/plain": [
              "    fraudulent                                               text\n",
              "3            0  Account Executive - Washington DC US, DC, Wash...\n",
              "4            0  Bill Review Manager US, FL, Fort Worth SpotSou...\n",
              "6            0  Head of Content (m/f) DE, BE, Berlin Founded i...\n",
              "14           0  Account Executive - Sydney AU, NSW, Sydney Adt...\n",
              "15           0  VP of Sales - Vault Dragon SG, 01, Singapore J..."
            ],
            "text/html": [
              "\n",
              "  <div id=\"df-b4c3b554-5b1a-409f-b784-bc2baa46b88b\">\n",
              "    <div class=\"colab-df-container\">\n",
              "      <div>\n",
              "<style scoped>\n",
              "    .dataframe tbody tr th:only-of-type {\n",
              "        vertical-align: middle;\n",
              "    }\n",
              "\n",
              "    .dataframe tbody tr th {\n",
              "        vertical-align: top;\n",
              "    }\n",
              "\n",
              "    .dataframe thead th {\n",
              "        text-align: right;\n",
              "    }\n",
              "</style>\n",
              "<table border=\"1\" class=\"dataframe\">\n",
              "  <thead>\n",
              "    <tr style=\"text-align: right;\">\n",
              "      <th></th>\n",
              "      <th>fraudulent</th>\n",
              "      <th>text</th>\n",
              "    </tr>\n",
              "  </thead>\n",
              "  <tbody>\n",
              "    <tr>\n",
              "      <th>3</th>\n",
              "      <td>0</td>\n",
              "      <td>Account Executive - Washington DC US, DC, Wash...</td>\n",
              "    </tr>\n",
              "    <tr>\n",
              "      <th>4</th>\n",
              "      <td>0</td>\n",
              "      <td>Bill Review Manager US, FL, Fort Worth SpotSou...</td>\n",
              "    </tr>\n",
              "    <tr>\n",
              "      <th>6</th>\n",
              "      <td>0</td>\n",
              "      <td>Head of Content (m/f) DE, BE, Berlin Founded i...</td>\n",
              "    </tr>\n",
              "    <tr>\n",
              "      <th>14</th>\n",
              "      <td>0</td>\n",
              "      <td>Account Executive - Sydney AU, NSW, Sydney Adt...</td>\n",
              "    </tr>\n",
              "    <tr>\n",
              "      <th>15</th>\n",
              "      <td>0</td>\n",
              "      <td>VP of Sales - Vault Dragon SG, 01, Singapore J...</td>\n",
              "    </tr>\n",
              "  </tbody>\n",
              "</table>\n",
              "</div>\n",
              "      <button class=\"colab-df-convert\" onclick=\"convertToInteractive('df-b4c3b554-5b1a-409f-b784-bc2baa46b88b')\"\n",
              "              title=\"Convert this dataframe to an interactive table.\"\n",
              "              style=\"display:none;\">\n",
              "        \n",
              "  <svg xmlns=\"http://www.w3.org/2000/svg\" height=\"24px\"viewBox=\"0 0 24 24\"\n",
              "       width=\"24px\">\n",
              "    <path d=\"M0 0h24v24H0V0z\" fill=\"none\"/>\n",
              "    <path d=\"M18.56 5.44l.94 2.06.94-2.06 2.06-.94-2.06-.94-.94-2.06-.94 2.06-2.06.94zm-11 1L8.5 8.5l.94-2.06 2.06-.94-2.06-.94L8.5 2.5l-.94 2.06-2.06.94zm10 10l.94 2.06.94-2.06 2.06-.94-2.06-.94-.94-2.06-.94 2.06-2.06.94z\"/><path d=\"M17.41 7.96l-1.37-1.37c-.4-.4-.92-.59-1.43-.59-.52 0-1.04.2-1.43.59L10.3 9.45l-7.72 7.72c-.78.78-.78 2.05 0 2.83L4 21.41c.39.39.9.59 1.41.59.51 0 1.02-.2 1.41-.59l7.78-7.78 2.81-2.81c.8-.78.8-2.07 0-2.86zM5.41 20L4 18.59l7.72-7.72 1.47 1.35L5.41 20z\"/>\n",
              "  </svg>\n",
              "      </button>\n",
              "      \n",
              "  <style>\n",
              "    .colab-df-container {\n",
              "      display:flex;\n",
              "      flex-wrap:wrap;\n",
              "      gap: 12px;\n",
              "    }\n",
              "\n",
              "    .colab-df-convert {\n",
              "      background-color: #E8F0FE;\n",
              "      border: none;\n",
              "      border-radius: 50%;\n",
              "      cursor: pointer;\n",
              "      display: none;\n",
              "      fill: #1967D2;\n",
              "      height: 32px;\n",
              "      padding: 0 0 0 0;\n",
              "      width: 32px;\n",
              "    }\n",
              "\n",
              "    .colab-df-convert:hover {\n",
              "      background-color: #E2EBFA;\n",
              "      box-shadow: 0px 1px 2px rgba(60, 64, 67, 0.3), 0px 1px 3px 1px rgba(60, 64, 67, 0.15);\n",
              "      fill: #174EA6;\n",
              "    }\n",
              "\n",
              "    [theme=dark] .colab-df-convert {\n",
              "      background-color: #3B4455;\n",
              "      fill: #D2E3FC;\n",
              "    }\n",
              "\n",
              "    [theme=dark] .colab-df-convert:hover {\n",
              "      background-color: #434B5C;\n",
              "      box-shadow: 0px 1px 3px 1px rgba(0, 0, 0, 0.15);\n",
              "      filter: drop-shadow(0px 1px 2px rgba(0, 0, 0, 0.3));\n",
              "      fill: #FFFFFF;\n",
              "    }\n",
              "  </style>\n",
              "\n",
              "      <script>\n",
              "        const buttonEl =\n",
              "          document.querySelector('#df-b4c3b554-5b1a-409f-b784-bc2baa46b88b button.colab-df-convert');\n",
              "        buttonEl.style.display =\n",
              "          google.colab.kernel.accessAllowed ? 'block' : 'none';\n",
              "\n",
              "        async function convertToInteractive(key) {\n",
              "          const element = document.querySelector('#df-b4c3b554-5b1a-409f-b784-bc2baa46b88b');\n",
              "          const dataTable =\n",
              "            await google.colab.kernel.invokeFunction('convertToInteractive',\n",
              "                                                     [key], {});\n",
              "          if (!dataTable) return;\n",
              "\n",
              "          const docLinkHtml = 'Like what you see? Visit the ' +\n",
              "            '<a target=\"_blank\" href=https://colab.research.google.com/notebooks/data_table.ipynb>data table notebook</a>'\n",
              "            + ' to learn more about interactive tables.';\n",
              "          element.innerHTML = '';\n",
              "          dataTable['output_type'] = 'display_data';\n",
              "          await google.colab.output.renderOutput(dataTable, element);\n",
              "          const docLink = document.createElement('div');\n",
              "          docLink.innerHTML = docLinkHtml;\n",
              "          element.appendChild(docLink);\n",
              "        }\n",
              "      </script>\n",
              "    </div>\n",
              "  </div>\n",
              "  "
            ]
          },
          "metadata": {},
          "execution_count": 118
        }
      ]
    },
    {
      "cell_type": "markdown",
      "source": [
        "# **Data Transformation**"
      ],
      "metadata": {
        "id": "UaAL7Bfpu4Pp"
      }
    },
    {
      "cell_type": "markdown",
      "source": [
        "Data transform is a mandatory step when we are working with text in Natural Language Processing\n",
        "\n",
        "**Using NLP (Natural Language Processing)** with following step:\n",
        "\n",
        "**Sentence Segmentation:** Breaking the phrase into separate Sentences\n",
        "\n",
        "**Word Tokenization:** Breaking the sentence to separate words\n",
        "\n",
        "**Stemming:** Transforming the words to their roots\n",
        "\n",
        "**Lemmatization and Convert To Lower Case:** It produces the root word which has a meaning\n",
        "\n",
        "**Removing Stop Words:** The words such as 'is', 'and', 'the',... should be filtered out before any statistical analysis"
      ],
      "metadata": {
        "id": "EcnF68zcu-tL"
      }
    },
    {
      "cell_type": "code",
      "source": [
        "# Creating list of punctuation marks\n",
        "punctuations = string.punctuation\n",
        "\n",
        "# Creating list of stopwords\n",
        "nlp = spacy.load(\"en_core_web_sm\")\n",
        "stop_words = spacy.lang.en.stop_words.STOP_WORDS\n",
        "\n",
        "# Loading the English tokenizer, tagger, parser and word vectors\n",
        "parser = English()\n",
        "\n",
        "# Creating the tokenizer function\n",
        "def spacy_tokenizer(sentence):\n",
        "    # Creating our token object, used to create documents with linguistic annotations.\n",
        "    mytokens = parser(sentence)\n",
        "\n",
        "    # Lemmatizing and lowercasing all tokens\n",
        "    mytokens = [ word.lemma_.lower().strip() if word.lemma_ != \"-PRON-\" else word.lower_ for word in mytokens ]\n",
        "\n",
        "#     # Removing all stop words\n",
        "    mytokens = [ word for word in mytokens if word not in stop_words and word not in punctuations ]\n",
        "\n",
        "    # return list of tokens\n",
        "    return mytokens"
      ],
      "metadata": {
        "id": "zZtACbH7wEFq"
      },
      "execution_count": null,
      "outputs": []
    },
    {
      "cell_type": "markdown",
      "source": [
        "More text cleaning to boost the accuracy and perfomance"
      ],
      "metadata": {
        "id": "FjHDKQMVwL4l"
      }
    },
    {
      "cell_type": "code",
      "source": [
        "# Customized transformer using spaCy\n",
        "class predictors(TransformerMixin):\n",
        "    def transform(self, X, **transform_params):\n",
        "        # Cleaning the Text\n",
        "        return [clean_text(text) for text in X]\n",
        "        # declaring the fit function\n",
        "    def fit(self, X, y=None, **fit_params):\n",
        "        return self\n",
        "        # return the paramters obtained\n",
        "    def get_params(self, deep=True):\n",
        "        return {}\n",
        "\n",
        "# function to clean the text\n",
        "def clean_text(text):\n",
        "    # Removing spaces and converting text into lowercase\n",
        "    return text.strip().lower()"
      ],
      "metadata": {
        "id": "zLxAfAn-wIkm"
      },
      "execution_count": null,
      "outputs": []
    },
    {
      "cell_type": "markdown",
      "source": [
        "TFid Vectorizer is used to convert text into vectors also priortizing the important features"
      ],
      "metadata": {
        "id": "CdFoXPgswQWR"
      }
    },
    {
      "cell_type": "code",
      "source": [
        "# Changing words into vectors using tfid vectorizer\n",
        "bowtf_vector=TfidfVectorizer(analyzer='char',tokenizer = spacy_tokenizer,ngram_range=(1,3))"
      ],
      "metadata": {
        "id": "Fmt-OjaYwR5g"
      },
      "execution_count": null,
      "outputs": []
    },
    {
      "cell_type": "markdown",
      "source": [
        "## **Traning and Predicting**"
      ],
      "metadata": {
        "id": "ZgwZcixEwicE"
      }
    },
    {
      "cell_type": "markdown",
      "source": [
        "The data is split into training and testing with 25% data for testing"
      ],
      "metadata": {
        "id": "PdgPpwbpwvfO"
      }
    },
    {
      "cell_type": "code",
      "source": [
        "# splitting our data in train and test\n",
        "X_train, X_test, y_train, y_test = train_test_split(data.text, data.fraudulent, test_size=0.25)"
      ],
      "metadata": {
        "id": "M-HUk-Fgw0mj"
      },
      "execution_count": null,
      "outputs": []
    },
    {
      "cell_type": "markdown",
      "source": [
        "# Fit to model (Logistic Regression)\n"
      ],
      "metadata": {
        "id": "-bHILU0yw2uw"
      }
    },
    {
      "cell_type": "markdown",
      "source": [
        "Here a pipe is created which combines the cleaning function, tfid vectorizer function and the model.\n",
        "\n",
        "The data is passed through these functions accordingly.\n",
        "\n",
        "Hence the data is cleaned then vectorized and then classified"
      ],
      "metadata": {
        "id": "vgy0ohZjuaqS"
      }
    },
    {
      "cell_type": "markdown",
      "source": [
        "Logistic regression is also used to estimate the relationship between a dependent variable and one or more independent variables, but it is used to make a prediction about a categorical variable versus a continuous one. A categorical variable can be fraudulent or non-fraudulent, 1 or 0"
      ],
      "metadata": {
        "id": "7UgDju11GI5s"
      }
    },
    {
      "cell_type": "code",
      "source": [
        "# logistic regression model\n",
        "clf = LogisticRegression()\n",
        "\n",
        "# Create pipeline for all three functions\n",
        "pipe2 = Pipeline([(\"cleaner\", predictors()),\n",
        "                 ('vectorizer', bowtf_vector),\n",
        "                 ('classifier', clf)])\n",
        "\n",
        "# fitting our model.\n",
        "pipe2.fit(X_train,y_train)"
      ],
      "metadata": {
        "colab": {
          "base_uri": "https://localhost:8080/"
        },
        "id": "TEANZm90w_bR",
        "outputId": "29797f9e-c023-4833-e2db-839250b5bc39"
      },
      "execution_count": null,
      "outputs": [
        {
          "output_type": "execute_result",
          "data": {
            "text/plain": [
              "Pipeline(steps=[('cleaner', <__main__.predictors object at 0x7f7a1590a350>),\n",
              "                ('vectorizer',\n",
              "                 TfidfVectorizer(analyzer='char', ngram_range=(1, 3),\n",
              "                                 tokenizer=<function spacy_tokenizer at 0x7f7a14fabb90>)),\n",
              "                ('classifier', LogisticRegression())])"
            ]
          },
          "metadata": {},
          "execution_count": 123
        }
      ]
    },
    {
      "cell_type": "code",
      "source": [
        "# testing the model with predict function\n",
        "predicted = pipe2.predict(X_test)\n",
        "\n",
        "# checking for Accuracy and recall\n",
        "lra_score=accuracy_score(y_test, predicted)\n",
        "print(\"Logistic Regression Accuracy:\", lra_score)\n",
        "lrr_score=recall_score(y_test, predicted)\n",
        "print(\"Logistic Regression Recall:\", lrr_score)"
      ],
      "metadata": {
        "colab": {
          "base_uri": "https://localhost:8080/"
        },
        "id": "1eXRpHo0xIFu",
        "outputId": "99c2f687-8f52-436c-d0c7-3e246f029f2a"
      },
      "execution_count": null,
      "outputs": [
        {
          "output_type": "stream",
          "name": "stdout",
          "text": [
            "Logistic Regression Accuracy: 0.9652096342551294\n",
            "Logistic Regression Recall: 0.0\n"
          ]
        }
      ]
    },
    {
      "cell_type": "markdown",
      "source": [
        "# Fit data into model (Support Vector Machine)"
      ],
      "metadata": {
        "id": "BahXUlZIjHWx"
      }
    },
    {
      "cell_type": "code",
      "source": [
        "# support vector machine model\n",
        "clf = SVC()\n",
        "\n",
        "# Create pipeline for all three functions\n",
        "pipe3 = Pipeline([(\"cleaner\", predictors()),\n",
        "                 ('vectorizer', bowtf_vector),\n",
        "                 ('classifier', clf)])\n",
        "\n",
        "# fitting our model.\n",
        "pipe3.fit(X_train,y_train)"
      ],
      "metadata": {
        "colab": {
          "base_uri": "https://localhost:8080/"
        },
        "id": "Zg-xX_t_j4Jp",
        "outputId": "9f962749-8561-462e-dac9-937fc5d2a341"
      },
      "execution_count": null,
      "outputs": [
        {
          "output_type": "execute_result",
          "data": {
            "text/plain": [
              "Pipeline(steps=[('cleaner', <__main__.predictors object at 0x7f7a13db42d0>),\n",
              "                ('vectorizer',\n",
              "                 TfidfVectorizer(analyzer='char', ngram_range=(1, 3),\n",
              "                                 tokenizer=<function spacy_tokenizer at 0x7f7a14fabb90>)),\n",
              "                ('classifier', SVC())])"
            ]
          },
          "metadata": {},
          "execution_count": 125
        }
      ]
    },
    {
      "cell_type": "code",
      "source": [
        "# testing the model with predict function\n",
        "predicted = pipe3.predict(X_test)\n",
        "\n",
        "# checking for Accuracy and recall\n",
        "svca_score=accuracy_score(y_test, predicted)\n",
        "print(\"SVC Accuracy:\", svca_score)\n",
        "svcr_score=recall_score(y_test, predicted)\n",
        "print(\"SVC Recall:\", svcr_score)"
      ],
      "metadata": {
        "colab": {
          "base_uri": "https://localhost:8080/"
        },
        "id": "pX639Brej7SW",
        "outputId": "c7bba96f-ddc1-48ee-c732-3e69d429d0a1"
      },
      "execution_count": null,
      "outputs": [
        {
          "output_type": "stream",
          "name": "stdout",
          "text": [
            "SVC Accuracy: 0.9652096342551294\n",
            "SVC Recall: 0.0\n"
          ]
        }
      ]
    },
    {
      "cell_type": "markdown",
      "source": [
        "# Fit data to model (XGBoost)\n",
        "\n"
      ],
      "metadata": {
        "id": "ncoyL1G_yO8l"
      }
    },
    {
      "cell_type": "markdown",
      "source": [
        "XGBoost is a popular and efficient open-source implementation of the gradient boosted trees algorithm. Gradient boosting is a supervised learning algorithm, which attempts to accurately predict a target variable by combining the estimates of a set of simpler, weaker models.\n",
        "\n",
        "When using gradient boosting for regression, the weak learners are regression trees, and each regression tree maps an input data point to one of its leafs that contains a continuous score. XGBoost minimizes a regularized (L1 and L2) objective function that combines a convex loss function (based on the difference between the predicted and target outputs) and a penalty term for model complexity (in other words, the regression tree functions). The training proceeds iteratively, adding new trees that predict the residuals or errors of prior trees that are then combined with previous trees to make the final prediction. It's called gradient boosting because it uses a gradient descent algorithm to minimize the loss when adding new models.\n",
        "\n",
        "Below is a brief illustration on how gradient tree boosting works.![xgboost_illustration.png](data:image/png;base64,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)"
      ],
      "metadata": {
        "id": "h4WPS5rCP0Ov"
      }
    },
    {
      "cell_type": "code",
      "source": [
        "# XGboost ensemble model\n",
        "clf = XGBClassifier()\n",
        "\n",
        "# Create pipeline for all three functions\n",
        "pipe4 = Pipeline([(\"cleaner\", predictors()),\n",
        "                 ('vectorizer', bowtf_vector),\n",
        "                 ('classifier', clf)])\n",
        "\n",
        "# fitting our model.\n",
        "pipe4.fit(X_train,y_train)"
      ],
      "metadata": {
        "colab": {
          "base_uri": "https://localhost:8080/"
        },
        "id": "zIBtltiZyScC",
        "outputId": "59cc22e7-7a03-4331-d1e2-078b4e1550bf"
      },
      "execution_count": null,
      "outputs": [
        {
          "output_type": "execute_result",
          "data": {
            "text/plain": [
              "Pipeline(steps=[('cleaner', <__main__.predictors object at 0x7f7a14abb290>),\n",
              "                ('vectorizer',\n",
              "                 TfidfVectorizer(analyzer='char', ngram_range=(1, 3),\n",
              "                                 tokenizer=<function spacy_tokenizer at 0x7f7a14fabb90>)),\n",
              "                ('classifier', XGBClassifier())])"
            ]
          },
          "metadata": {},
          "execution_count": 127
        }
      ]
    },
    {
      "cell_type": "code",
      "source": [
        "# testing the model with predict function\n",
        "predicted1 = pipe4.predict(X_test)\n",
        "\n",
        "# checking for Accuracy and recall\n",
        "XGBa_score=accuracy_score(y_test, predicted1)\n",
        "print(\"XGBoost Accuracy:\", XGBa_score)\n",
        "XGBr_score=recall_score(y_test, predicted1)\n",
        "print(\"XGBoost Recall:\", XGBr_score)"
      ],
      "metadata": {
        "colab": {
          "base_uri": "https://localhost:8080/"
        },
        "id": "BGxFCxV3ySig",
        "outputId": "5640540a-5e35-4e18-d322-7f3e90dffcaf"
      },
      "execution_count": null,
      "outputs": [
        {
          "output_type": "stream",
          "name": "stdout",
          "text": [
            "XGBoost Accuracy: 0.9928635147190009\n",
            "XGBoost Recall: 0.7948717948717948\n"
          ]
        }
      ]
    },
    {
      "cell_type": "markdown",
      "source": [
        "# Fit data to Model (Random Forest)\n"
      ],
      "metadata": {
        "id": "RwCCvXxTyf9J"
      }
    },
    {
      "cell_type": "code",
      "source": [
        "# random forest model\n",
        "clf = RandomForestClassifier()\n",
        "\n",
        "# Create pipeline for all three functions\n",
        "pipe = Pipeline([(\"cleaner\", predictors()),\n",
        "                 ('vectorizer', bowtf_vector),\n",
        "                 ('classifier', clf)])\n",
        "\n",
        "# fitting our model\n",
        "pipe.fit(X_train,y_train)"
      ],
      "metadata": {
        "colab": {
          "base_uri": "https://localhost:8080/"
        },
        "id": "cNSDT5tuY_Pa",
        "outputId": "2f6c9356-2fb9-48dd-f36c-c21402ae571a"
      },
      "execution_count": null,
      "outputs": [
        {
          "output_type": "execute_result",
          "data": {
            "text/plain": [
              "Pipeline(steps=[('cleaner', <__main__.predictors object at 0x7f7a16baf550>),\n",
              "                ('vectorizer',\n",
              "                 TfidfVectorizer(analyzer='char', ngram_range=(1, 3),\n",
              "                                 tokenizer=<function spacy_tokenizer at 0x7f7a14fabb90>)),\n",
              "                ('classifier', RandomForestClassifier())])"
            ]
          },
          "metadata": {},
          "execution_count": 129
        }
      ]
    },
    {
      "cell_type": "code",
      "source": [
        "# testing the model with predict function\n",
        "predicted2 = pipe.predict(X_test)\n",
        "\n",
        "# checking for Accuracy and recall\n",
        "rfa_score= accuracy_score(y_test, predicted2)\n",
        "print(\"Random Forest Accuracy:\", rfa_score)\n",
        "rfr_score=recall_score(y_test, predicted2)\n",
        "print(\"Random Forest Recall:\", rfr_score)"
      ],
      "metadata": {
        "colab": {
          "base_uri": "https://localhost:8080/"
        },
        "id": "-BQ-swmpx7uH",
        "outputId": "69351476-f8fb-4684-be27-66a1b7fb3af4"
      },
      "execution_count": null,
      "outputs": [
        {
          "output_type": "stream",
          "name": "stdout",
          "text": [
            "Random Forest Accuracy: 0.9937555753791257\n",
            "Random Forest Recall: 0.8205128205128205\n"
          ]
        }
      ]
    },
    {
      "cell_type": "markdown",
      "source": [
        "# **Comparison of Models**\n",
        "All the models are compared on basis of accuracy and recall"
      ],
      "metadata": {
        "id": "bitAhGNrzGWt"
      }
    },
    {
      "cell_type": "code",
      "source": [
        "# declaring data for model variable (string name and corresponding scores)\n",
        "models = [('Logistic Regression', lra_score,lrr_score),\n",
        "          ('SVM', svca_score,svcr_score),\n",
        "          ('XGBoost', XGBa_score,XGBr_score),\n",
        "          ('Random Forest', rfa_score,rfr_score),\n",
        "         ]"
      ],
      "metadata": {
        "id": "Kdyemt-uzFQX"
      },
      "execution_count": null,
      "outputs": []
    },
    {
      "cell_type": "code",
      "source": [
        "# creating a table based on the variable models\n",
        "predict = pd.DataFrame(data = models, columns=['Model', 'Accuracy', 'Recall'])\n",
        "predict"
      ],
      "metadata": {
        "colab": {
          "base_uri": "https://localhost:8080/",
          "height": 175
        },
        "id": "vA3eOt1gN44l",
        "outputId": "9069b921-f1d6-4656-a5d6-26836f0cc2e8"
      },
      "execution_count": null,
      "outputs": [
        {
          "output_type": "execute_result",
          "data": {
            "text/plain": [
              "                 Model  Accuracy    Recall\n",
              "0  Logistic Regression  0.965210  0.000000\n",
              "1                  SVM  0.965210  0.000000\n",
              "2              XGBoost  0.992864  0.794872\n",
              "3        Random Forest  0.993756  0.820513"
            ],
            "text/html": [
              "\n",
              "  <div id=\"df-98dea12a-ff2d-48c7-abf0-c0adb6b94949\">\n",
              "    <div class=\"colab-df-container\">\n",
              "      <div>\n",
              "<style scoped>\n",
              "    .dataframe tbody tr th:only-of-type {\n",
              "        vertical-align: middle;\n",
              "    }\n",
              "\n",
              "    .dataframe tbody tr th {\n",
              "        vertical-align: top;\n",
              "    }\n",
              "\n",
              "    .dataframe thead th {\n",
              "        text-align: right;\n",
              "    }\n",
              "</style>\n",
              "<table border=\"1\" class=\"dataframe\">\n",
              "  <thead>\n",
              "    <tr style=\"text-align: right;\">\n",
              "      <th></th>\n",
              "      <th>Model</th>\n",
              "      <th>Accuracy</th>\n",
              "      <th>Recall</th>\n",
              "    </tr>\n",
              "  </thead>\n",
              "  <tbody>\n",
              "    <tr>\n",
              "      <th>0</th>\n",
              "      <td>Logistic Regression</td>\n",
              "      <td>0.965210</td>\n",
              "      <td>0.000000</td>\n",
              "    </tr>\n",
              "    <tr>\n",
              "      <th>1</th>\n",
              "      <td>SVM</td>\n",
              "      <td>0.965210</td>\n",
              "      <td>0.000000</td>\n",
              "    </tr>\n",
              "    <tr>\n",
              "      <th>2</th>\n",
              "      <td>XGBoost</td>\n",
              "      <td>0.992864</td>\n",
              "      <td>0.794872</td>\n",
              "    </tr>\n",
              "    <tr>\n",
              "      <th>3</th>\n",
              "      <td>Random Forest</td>\n",
              "      <td>0.993756</td>\n",
              "      <td>0.820513</td>\n",
              "    </tr>\n",
              "  </tbody>\n",
              "</table>\n",
              "</div>\n",
              "      <button class=\"colab-df-convert\" onclick=\"convertToInteractive('df-98dea12a-ff2d-48c7-abf0-c0adb6b94949')\"\n",
              "              title=\"Convert this dataframe to an interactive table.\"\n",
              "              style=\"display:none;\">\n",
              "        \n",
              "  <svg xmlns=\"http://www.w3.org/2000/svg\" height=\"24px\"viewBox=\"0 0 24 24\"\n",
              "       width=\"24px\">\n",
              "    <path d=\"M0 0h24v24H0V0z\" fill=\"none\"/>\n",
              "    <path d=\"M18.56 5.44l.94 2.06.94-2.06 2.06-.94-2.06-.94-.94-2.06-.94 2.06-2.06.94zm-11 1L8.5 8.5l.94-2.06 2.06-.94-2.06-.94L8.5 2.5l-.94 2.06-2.06.94zm10 10l.94 2.06.94-2.06 2.06-.94-2.06-.94-.94-2.06-.94 2.06-2.06.94z\"/><path d=\"M17.41 7.96l-1.37-1.37c-.4-.4-.92-.59-1.43-.59-.52 0-1.04.2-1.43.59L10.3 9.45l-7.72 7.72c-.78.78-.78 2.05 0 2.83L4 21.41c.39.39.9.59 1.41.59.51 0 1.02-.2 1.41-.59l7.78-7.78 2.81-2.81c.8-.78.8-2.07 0-2.86zM5.41 20L4 18.59l7.72-7.72 1.47 1.35L5.41 20z\"/>\n",
              "  </svg>\n",
              "      </button>\n",
              "      \n",
              "  <style>\n",
              "    .colab-df-container {\n",
              "      display:flex;\n",
              "      flex-wrap:wrap;\n",
              "      gap: 12px;\n",
              "    }\n",
              "\n",
              "    .colab-df-convert {\n",
              "      background-color: #E8F0FE;\n",
              "      border: none;\n",
              "      border-radius: 50%;\n",
              "      cursor: pointer;\n",
              "      display: none;\n",
              "      fill: #1967D2;\n",
              "      height: 32px;\n",
              "      padding: 0 0 0 0;\n",
              "      width: 32px;\n",
              "    }\n",
              "\n",
              "    .colab-df-convert:hover {\n",
              "      background-color: #E2EBFA;\n",
              "      box-shadow: 0px 1px 2px rgba(60, 64, 67, 0.3), 0px 1px 3px 1px rgba(60, 64, 67, 0.15);\n",
              "      fill: #174EA6;\n",
              "    }\n",
              "\n",
              "    [theme=dark] .colab-df-convert {\n",
              "      background-color: #3B4455;\n",
              "      fill: #D2E3FC;\n",
              "    }\n",
              "\n",
              "    [theme=dark] .colab-df-convert:hover {\n",
              "      background-color: #434B5C;\n",
              "      box-shadow: 0px 1px 3px 1px rgba(0, 0, 0, 0.15);\n",
              "      filter: drop-shadow(0px 1px 2px rgba(0, 0, 0, 0.3));\n",
              "      fill: #FFFFFF;\n",
              "    }\n",
              "  </style>\n",
              "\n",
              "      <script>\n",
              "        const buttonEl =\n",
              "          document.querySelector('#df-98dea12a-ff2d-48c7-abf0-c0adb6b94949 button.colab-df-convert');\n",
              "        buttonEl.style.display =\n",
              "          google.colab.kernel.accessAllowed ? 'block' : 'none';\n",
              "\n",
              "        async function convertToInteractive(key) {\n",
              "          const element = document.querySelector('#df-98dea12a-ff2d-48c7-abf0-c0adb6b94949');\n",
              "          const dataTable =\n",
              "            await google.colab.kernel.invokeFunction('convertToInteractive',\n",
              "                                                     [key], {});\n",
              "          if (!dataTable) return;\n",
              "\n",
              "          const docLinkHtml = 'Like what you see? Visit the ' +\n",
              "            '<a target=\"_blank\" href=https://colab.research.google.com/notebooks/data_table.ipynb>data table notebook</a>'\n",
              "            + ' to learn more about interactive tables.';\n",
              "          element.innerHTML = '';\n",
              "          dataTable['output_type'] = 'display_data';\n",
              "          await google.colab.output.renderOutput(dataTable, element);\n",
              "          const docLink = document.createElement('div');\n",
              "          docLink.innerHTML = docLinkHtml;\n",
              "          element.appendChild(docLink);\n",
              "        }\n",
              "      </script>\n",
              "    </div>\n",
              "  </div>\n",
              "  "
            ]
          },
          "metadata": {},
          "execution_count": 132
        }
      ]
    },
    {
      "cell_type": "code",
      "source": [
        "# checking the model with highest accuracy\n",
        "predict.sort_values(by=['Accuracy'], ascending=False, inplace=True)\n",
        "\n",
        "f, axes = plt.subplots(1,figsize=(10,7))\n",
        "\n",
        "sns.barplot(x='Accuracy', y='Model', data = predict, palette='Greens_d', ax = axes)\n",
        "axes.set_xlabel('Accuracy', size=12)\n",
        "axes.set_ylabel('Model')\n",
        "axes.set_xlim(0,1.0)\n",
        "axes.set_xticks(np.arange(0, 1.1, 0.1))\n",
        "\n",
        "plt.show()"
      ],
      "metadata": {
        "colab": {
          "base_uri": "https://localhost:8080/",
          "height": 445
        },
        "id": "swZBsXFtsmjr",
        "outputId": "7c36c938-ab60-489b-a5ed-79bf14c73343"
      },
      "execution_count": null,
      "outputs": [
        {
          "output_type": "display_data",
          "data": {
            "text/plain": [
              "<Figure size 720x504 with 1 Axes>"
            ],
            "image/png": "[encoded data removed]"
          },
          "metadata": {
            "needs_background": "light"
          }
        }
      ]
    },
    {
      "cell_type": "code",
      "source": [
        "# checking the model with highest recall\n",
        "predict.sort_values(by=['Recall'], ascending=False, inplace=True)\n",
        "\n",
        "f, axes = plt.subplots(1,figsize=(10,7))\n",
        "\n",
        "sns.barplot(x='Recall', y='Model', data = predict, palette='Blues_d', ax = axes)\n",
        "axes.set_xlabel('Recall', size=12)\n",
        "axes.set_ylabel('Model')\n",
        "axes.set_xlim(0,1.0)\n",
        "axes.set_xticks(np.arange(0, 1.1, 0.1))\n",
        "\n",
        "plt.show()"
      ],
      "metadata": {
        "colab": {
          "base_uri": "https://localhost:8080/",
          "height": 445
        },
        "id": "iDZZuECxzUVx",
        "outputId": "23a0ba42-331c-486e-a1c2-7715c4292500"
      },
      "execution_count": null,
      "outputs": [
        {
          "output_type": "display_data",
          "data": {
            "text/plain": [
              "<Figure size 720x504 with 1 Axes>"
            ],
            "image/png": "[encoded data removed]"
          },
          "metadata": {
            "needs_background": "light"
          }
        }
      ]
    },
    {
      "cell_type": "markdown",
      "source": [
        "Random Forest also show the highest value of recall which evaluates the model ability to classify wrong and correct values accordingly, following by XGBoost Model.The score is 76%. Other models show zero recall since they failed to identify true positive values"
      ],
      "metadata": {
        "id": "S4-9bK0ezrnT"
      }
    },
    {
      "cell_type": "markdown",
      "source": [
        "# **Random Forest Evaluation**"
      ],
      "metadata": {
        "id": "7f43IG-63OXj"
      }
    },
    {
      "cell_type": "code",
      "source": [
        "# print a classification report for one of two best model\n",
        "from sklearn.metrics import classification_report \n",
        "print(classification_report(y_test, predicted2))"
      ],
      "metadata": {
        "colab": {
          "base_uri": "https://localhost:8080/"
        },
        "id": "eqY-FinU3W1g",
        "outputId": "db293f6e-bc1e-48a1-d16d-5a7260a84d7e"
      },
      "execution_count": null,
      "outputs": [
        {
          "output_type": "stream",
          "name": "stdout",
          "text": [
            "              precision    recall  f1-score   support\n",
            "\n",
            "           0       0.99      1.00      1.00      1082\n",
            "           1       1.00      0.82      0.90        39\n",
            "\n",
            "    accuracy                           0.99      1121\n",
            "   macro avg       1.00      0.91      0.95      1121\n",
            "weighted avg       0.99      0.99      0.99      1121\n",
            "\n"
          ]
        }
      ]
    },
    {
      "cell_type": "code",
      "source": [
        "# building the confusion matrix to check the results\n",
        "plt.figure(figsize=(10,6))\n",
        "from sklearn.metrics import confusion_matrix\n",
        "cm=sns.heatmap(confusion_matrix(y_test, predicted2), annot=True, cmap = 'vi ridis', fmt='.0f')\n",
        "plt.show()"
      ],
      "metadata": {
        "colab": {
          "base_uri": "https://localhost:8080/",
          "height": 374
        },
        "id": "AiXY8vhQ3xsx",
        "outputId": "8184ca01-5408-46da-b160-af3f498b20c2"
      },
      "execution_count": null,
      "outputs": [
        {
          "output_type": "display_data",
          "data": {
            "text/plain": [
              "<Figure size 720x432 with 2 Axes>"
            ],
            "image/png": "[encoded data removed]"
          },
          "metadata": {
            "needs_background": "light"
          }
        }
      ]
    },
    {
      "cell_type": "markdown",
      "source": [
        "**Confusion Matrix**\n",
        "\n",
        "True Positive = ‘1082’ means that 1298 non-fraudulent values are classified correctly by the model.\n",
        "\n",
        "True Negative = ‘30’ means that 38 fraudulent values are classified correctly by the model.\n",
        "\n",
        "False Positive = ‘9’ means that 14 non-fraudulent values are classified incorrectly by the model.\n",
        "\n",
        "False Negative = ‘0’ means that 0 fraudulent values are classified incorrectly by the model."
      ],
      "metadata": {
        "id": "HPINJTEI3j4Z"
      }
    },
    {
      "cell_type": "markdown",
      "source": [
        "**ROC Analysis**\n",
        "\n",
        "The graph shows that the area under graph has value of 88.46% meaning the model did quite well overall.**"
      ],
      "metadata": {
        "id": "31_D6BW04Fg_"
      }
    },
    {
      "cell_type": "code",
      "source": [
        "# building the roc curve to check the results\n",
        "plt.figure(figsize=(10,6))\n",
        "from sklearn.metrics import roc_curve, auc\n",
        "test_fpr, test_tpr, te_thresholds = roc_curve(y_test, predicted2)\n",
        "\n",
        "plt.grid()\n",
        "\n",
        "plt.plot(test_fpr, test_tpr, label=\" AUC TEST =\"+str(auc(test_fpr, test_tpr)))\n",
        "plt.plot([0,1],[0,1],'g--')\n",
        "plt.legend()\n",
        "plt.xlabel(\"False Positive Rate\")\n",
        "plt.ylabel(\"True Positive Rate\")\n",
        "plt.title(\"AUC\")\n",
        "plt.grid(color='black', linestyle='-', linewidth=0.5)"
      ],
      "metadata": {
        "colab": {
          "base_uri": "https://localhost:8080/",
          "height": 404
        },
        "id": "YVU7zUCE3-OF",
        "outputId": "16252cb7-34f2-4a03-b915-990f0c92bda6"
      },
      "execution_count": null,
      "outputs": [
        {
          "output_type": "display_data",
          "data": {
            "text/plain": [
              "<Figure size 720x432 with 1 Axes>"
            ],
            "image/png": "[encoded data removed]"
          },
          "metadata": {
            "needs_background": "light"
          }
        }
      ]
    }
  ]
}